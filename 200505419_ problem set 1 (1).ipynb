{
 "cells": [
  {
   "cell_type": "markdown",
   "id": "b411d88d",
   "metadata": {},
   "source": [
    "### Question 6 "
   ]
  },
  {
   "cell_type": "markdown",
   "id": "f10daee6",
   "metadata": {},
   "source": [
    "You can turn a word into pig-Latin using the following two rules(simplified):\n",
    "\n",
    "• If the word starts with a consonant, move that letter to the end and append\n",
    "'ay'. For example, 'happy' becomes 'appyhay' and 'pencil' becomes 'encilpay'.\n",
    "\n",
    "• If the word starts with a vowel, simply append 'way' to the end of the word.\n",
    "For example, 'enter' becomes 'enterway' and 'other' becomes 'otherway' . For\n",
    "our purposes, there are 5 vowels: a, e, i, o, u (so we count y as a consonant).\n",
    "\n",
    "Write a function pig() that takes a word (i.e., a string) as input and returns its pigLatin form. Your function should still work if the input word contains upper case\n",
    "characters. Your output should always be lower case however"
   ]
  },
  {
   "cell_type": "code",
   "execution_count": 46,
   "id": "928e0904",
   "metadata": {},
   "outputs": [
    {
     "name": "stdout",
     "output_type": "stream",
     "text": [
      "Insert message to convert in pig latin: happy\n"
     ]
    },
    {
     "data": {
      "text/plain": [
       "'appyhay'"
      ]
     },
     "execution_count": 46,
     "metadata": {},
     "output_type": "execute_result"
    }
   ],
   "source": [
    "pig_latin = input(\"Insert message to convert in pig latin: \")\n",
    "vowel = 'aeiou'\n",
    "\n",
    "def pig(pig_latin):\n",
    "    if pig_latin[0].lower() in vowel:\n",
    "       return (pig_latin+ \"way\")\n",
    "    else:\n",
    "       return (pig_latin[1:len(pig_latin)]+ pig_latin[0] + \"ay\")\n",
    "pig(pig_latin)"
   ]
  },
  {
   "cell_type": "markdown",
   "id": "2dd37068",
   "metadata": {},
   "source": [
    "### Question 7"
   ]
  },
  {
   "cell_type": "markdown",
   "id": "20fb309e",
   "metadata": {},
   "source": [
    "File bloodtype1.txt records blood-types of patients (A, B, AB, O or OO) at a clinic.\n",
    "\n",
    "Write a function bldcount() that reads the file with name name and reports (i.e.,prints) how many patients there are in each bloodtype.\n",
    "bldcount('bloodtype.txt')\n",
    "There are 10 patients of blood type A.\n",
    "There is one patient of blood type B.\n",
    "There are 10 patients of blood type AB.\n",
    "There are 12 patients of blood type O.\n",
    "There are no patients of blood type OO."
   ]
  },
  {
   "cell_type": "code",
   "execution_count": 34,
   "id": "a92c2dc1",
   "metadata": {},
   "outputs": [
    {
     "name": "stdout",
     "output_type": "stream",
     "text": [
      "There are 13 patients of blood type AB.\n",
      "There are 15 patients of blood type A.\n",
      "There are 14 patients of blood type B.\n",
      "There are 0 patients of blood type OO.\n",
      "There are 15 patients of blood type O.\n"
     ]
    }
   ],
   "source": [
    "file = open(\"bloodtest.txt\", \"r\")\n",
    "bloodtest = file.read()\n",
    "bloodtest\n",
    "\n",
    "def bldcount(bloodtest, bld):\n",
    "    return bloodtest.count(bld)\n",
    "\n",
    "print(\"There are \"+ str(bldcount(bloodtest,\"AB \")) +\" patients of blood type AB.\")\n",
    "print(\"There are \"+ str(bldcount(bloodtest,\"A \")) +\" patients of blood type A.\")\n",
    "print(\"There are \"+ str(bldcount(bloodtest,\"B \")) +\" patients of blood type B.\")\n",
    "print(\"There are \"+ str(bldcount(bloodtest,\"OO \")) +\" patients of blood type OO.\")\n",
    "print(\"There are \"+ str(bldcount(bloodtest,\"O \")) +\" patients of blood type O.\")"
   ]
  },
  {
   "cell_type": "markdown",
   "id": "bc83ee81",
   "metadata": {},
   "source": [
    "### Question 8 "
   ]
  },
  {
   "cell_type": "markdown",
   "id": "d04e76c7",
   "metadata": {},
   "source": [
    "Write a function curconv() that takes as input:\n",
    "    \n",
    "1. a currency represented using a string (e.g., 'JPY' for the Japanese Yen or\n",
    "'EUR' for the Euro)\n",
    "2. an amount\n",
    "\n",
    "and then converts and returns the amount in US dollars.\n",
    "\n",
    "curconv('EUR', 100)\n",
    "\n",
    "122.96544\n",
    "\n",
    "curconv('JPY', 100)\n",
    "\n",
    "1.241401\n"
   ]
  },
  {
   "cell_type": "code",
   "execution_count": 79,
   "id": "cc8caf46",
   "metadata": {},
   "outputs": [
    {
     "name": "stdout",
     "output_type": "stream",
     "text": [
      "122.96544\n",
      "1.241401\n"
     ]
    }
   ],
   "source": [
    "def curconv(currency,amount):\n",
    "    currencies = {}\n",
    "    curr = open('currencies.txt')\n",
    "    lines = curr.readlines()\n",
    "    \n",
    "    for x in lines:\n",
    "        currencies[x[:3].strip()] = x[4:].split(\"\\t\")\n",
    "    value = currencies[currency][0].strip()\n",
    "    print(amount * float(value))\n",
    "curconv('EUR', 100)\n",
    "curconv('JPY', 100)"
   ]
  },
  {
   "cell_type": "markdown",
   "id": "ea1db96a",
   "metadata": {},
   "source": [
    "### Question 9"
   ]
  },
  {
   "cell_type": "markdown",
   "id": "ac791502",
   "metadata": {},
   "source": [
    "Each of the following will cause an exception (an error). Identify what type of exception each will cause.\n"
   ]
  },
  {
   "cell_type": "markdown",
   "id": "610c498d",
   "metadata": {},
   "source": [
    "-->Trying to add incompatible variables, as in adding 6+ 'a'\n",
    "\n",
    "TypeError: unsupported operand type(s) for +: 'int' and 'str'"
   ]
  },
  {
   "cell_type": "markdown",
   "id": "b1b97fb2",
   "metadata": {},
   "source": [
    "-->Referring to the 12 A (th) item of a list that has only 10 items\n",
    "\n",
    "IndexError:list index out of range\n"
   ]
  },
  {
   "cell_type": "markdown",
   "id": "eda7bf05",
   "metadata": {},
   "source": [
    "    \n",
    "-->Using a value that is out of range for a function's input, such as calling sqrt(- 1.0)\n",
    "\n",
    "ValueError: math domain error\n",
    "    \n"
   ]
  },
  {
   "cell_type": "markdown",
   "id": "1306fb98",
   "metadata": {},
   "source": [
    "-->Using an undeclared variable, such as print t(x) when x has not been defined\n",
    "\n",
    "NameError: name 'x' is not defined"
   ]
  },
  {
   "cell_type": "markdown",
   "id": "391df181",
   "metadata": {},
   "source": [
    "-->Trying to open a file that does not exist, such as mistyping the file name or looking in the wrong directory.\n",
    "\n",
    "IOError: No such file or directory"
   ]
  },
  {
   "cell_type": "markdown",
   "id": "7816c52f",
   "metadata": {},
   "source": [
    "### Question 10"
   ]
  },
  {
   "cell_type": "markdown",
   "id": "063b1500",
   "metadata": {},
   "source": [
    "Encryption is the process of hiding the meaning of a text by substituting letters in the message with other letters, according to some system. If the process is successful, no\n",
    "one but the intended recipient can understand the encrypted message. Cryptanalysis refers to attempts to undo the encryption, even if some details of the encryption are\n",
    "unknown (for example, if an encrypted message has been intercepted). The first step of cryptanalysis is often to build up a table of letter frequencies in the encrypted text.\n",
    "Assume that the string letters is already defined as 'abcdefghijklmnopqrstuvwxyz'. Write a function called frequencies()\n",
    "that takes a string as its only parameter, and returns a list of integers, showing the number of times each character appears in the text. Your function may ignore any\n",
    "characters that are not in letters.\n",
    "\n",
    "frequencies('The quick red fox got bored and went home.')\n",
    "\n",
    "[1, 1, 1, 3, 5, 1, 1, 2, 1, 0, 1, 0, 1, 2, 4, 0, 1, 2, 0, 2,1, 0, 1, 1, 0, 0]\n",
    "\n",
    "frequencies('apple')"
   ]
  },
  {
   "cell_type": "code",
   "execution_count": 58,
   "id": "cf883e48",
   "metadata": {},
   "outputs": [
    {
     "name": "stdout",
     "output_type": "stream",
     "text": [
      "{'a': 1, 'p': 2, 'l': 1, 'e': 1}\n"
     ]
    }
   ],
   "source": [
    "Alphabet=['a','b','c','d','e','f','g','h','i','j','k','l','m','n','o','p','q','r','s','t','u','v','w','x','y','z']\n",
    "\n",
    "def frequencies(word):\n",
    "    freq = {}\n",
    "    for i in word:\n",
    "        if i in freq:\n",
    "            freq[i] += 1\n",
    "        else:\n",
    "            freq[i] = 1\n",
    "    print (str(freq))\n",
    "  \n",
    "frequencies(\"apple\")"
   ]
  }
 ],
 "metadata": {
  "kernelspec": {
   "display_name": "Python 3 (ipykernel)",
   "language": "python",
   "name": "python3"
  },
  "language_info": {
   "codemirror_mode": {
    "name": "ipython",
    "version": 3
   },
   "file_extension": ".py",
   "mimetype": "text/x-python",
   "name": "python",
   "nbconvert_exporter": "python",
   "pygments_lexer": "ipython3",
   "version": "3.9.12"
  }
 },
 "nbformat": 4,
 "nbformat_minor": 5
}
